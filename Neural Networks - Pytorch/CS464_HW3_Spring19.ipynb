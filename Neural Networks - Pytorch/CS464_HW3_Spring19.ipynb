{
 "cells": [
  {
   "cell_type": "markdown",
   "metadata": {},
   "source": [
    "<h1><center>CS 464</center></h1>\n",
    "<h1><center>Introduction Machine Learning</center></h1>\n",
    "<h1><center>Spring 2019</center></h1>\n",
    "<h1><center>Homework 3</center></h1>"
   ]
  },
  {
   "cell_type": "markdown",
   "metadata": {},
   "source": [
    "<h3><center>Due: May 21, 2019 23:59</center></h3>"
   ]
  },
  {
   "cell_type": "markdown",
   "metadata": {},
   "source": [
    "## Instructions"
   ]
  },
  {
   "cell_type": "markdown",
   "metadata": {},
   "source": [
    "<ul>\n",
    "    <li>This homework contains both written and programming questions about neural networks. You should implement your programming questions on this notebook. Your plots should also be produced in this notebook. Each programming question has its own cell for your answer. You can implement your code directly in these cells. You should upload this .ipynb file with the computed output cells for each code cell.\n",
    "    </li>\n",
    "    <li>\n",
    "        For questions that you need to plot, your plot results have to be included in cell output.\n",
    "    </li>\n",
    "    <li>\n",
    "        It is <b>NOT ALLOWED</b> to use different libraries than given libraries which are defined in the required packages section.\n",
    "    </li>\n",
    "    <li>\n",
    "        It is <b>NOT ALLOWED</b> to use a different deep learning framework than PyTorch.\n",
    "    </li>\n",
    "    <li>\n",
    "        In this homework, you have to implement programming questions on <b>Python 3</b> version programming language.\n",
    "    </li>\n",
    "    <li>\n",
    "        While submitting the homework file, please package your notebook(\".ipynb\") files as a gzipped TAR file or a ZIP file with the name CS464_HW3_Firstname_Lastname. Please do not use any Turkish letters for any of your files including code files and report file. Upload your homework to Moodle.\n",
    "    </li>\n",
    "    <li>\n",
    "        Any violation of these rules may lead to significant grade deduction.\n",
    "    </li>\n",
    "    <li>\n",
    "        if your code cell does not return outputs correctly, you will lose points for the corresponding question.\n",
    "    </li>\n",
    "    <li> You can send an email for your questions to <b>can.uner@bilkent.edu.tr</b> address.</li>\n",
    "    <li> You can use Google Colab or your own local environment for this homework. You can prefer Google Colab since you have access to GPUs. You do not have to use GPUs to complete this homework though. If you prefer to use your local system, you should follow the below \"Environmental Setup\" instructions.</li>\n",
    "</ul>"
   ]
  },
  {
   "cell_type": "markdown",
   "metadata": {},
   "source": [
    "## Environment Setup"
   ]
  },
  {
   "cell_type": "markdown",
   "metadata": {},
   "source": [
    "### Anaconda Installation"
   ]
  },
  {
   "cell_type": "markdown",
   "metadata": {},
   "source": [
    "<ul>\n",
    "    <li>Download anaconda from https://www.anaconda.com/download</li>\n",
    "    <li>Follow the instructions provided in https://conda.io/docs/user-guide/install/index.html#regular-installation</li>\n",
    "</ul>"
   ]
  },
  {
   "cell_type": "markdown",
   "metadata": {},
   "source": [
    "### Creation of Virtual Environment"
   ]
  },
  {
   "cell_type": "markdown",
   "metadata": {},
   "source": [
    "<ul>\n",
    "    <li>Create python3.7 virtual environment for your hw3 using follow command from the command line<br>\n",
    "        <i>> conda create -n HW3 python=3.7 anaconda</i></li>\n",
    "    <li>Activate your virtual environment<br>\n",
    "        <i>> source activate HW3</i></li>\n",
    "    <li>To install auxiliary libraries create \"requirements.txt\" file which contains given required packages and run following command in the activated \"hw3\" environment<br>\n",
    "        <i>> pip install -r requirements.txt<i></li>\n",
    "     <li>When you create your virtual environment with \"anaconda\" metapackage, jupyter notebook should be installed. Try:<br>\n",
    "         <i>> jupyter notebook</i>\n",
    "</ul>"
   ]
  },
  {
   "cell_type": "markdown",
   "metadata": {},
   "source": [
    "### Pytorch Installation"
   ]
  },
  {
   "cell_type": "markdown",
   "metadata": {},
   "source": [
    "You should install PyTorch to your virtual environment which is created for the hw3. Therefore, you should activate your homework virtual environment before to start PyTorch installation.\n",
    "<li>> source activate HW3</li>\n",
    "\n",
    "After you have activated the virtual environment, then use one of the following commands to install pytorch for CPU for your system. See https://pytorch.org/ for help.\n",
    "<ul>\n",
    "<li>For MacOS:<br>\n",
    "    <i>> conda install pytorch torchvision -c pytorch</i>\n",
    "</li>\n",
    "<li>For Linux:<br>\n",
    "    <i>> conda install pytorch-cpu torchvision-cpu -c pytorch</i>\n",
    "</li>\n",
    "<li>For Windows:<br>\n",
    "    <i>> conda install pytorch-cpu torchvision-cpu -c pytorch</i><br>\n",
    "</li>\n",
    "\n",
    "If your system has appropriate GPU Driver, CUDA and CuDNN installations, then you can use GPU supported PyTorch as well."
   ]
  },
  {
   "cell_type": "markdown",
   "metadata": {},
   "source": [
    "### Required Packages"
   ]
  },
  {
   "cell_type": "markdown",
   "metadata": {},
   "source": [
    "Additional required packages except PyTorch and Torchvision are defined below."
   ]
  },
  {
   "cell_type": "code",
   "execution_count": null,
   "metadata": {
    "scrolled": false
   },
   "outputs": [],
   "source": [
    "numpy\n",
    "pandas\n",
    "Pillow\n",
    "matplotlib\n",
    "scikit-image\n",
    "scipy"
   ]
  },
  {
   "cell_type": "markdown",
   "metadata": {},
   "source": [
    "## Question 1 - 35 pts"
   ]
  },
  {
   "cell_type": "markdown",
   "metadata": {},
   "source": [
    "In this question, you are going to implement a Convolutional Neural Network (CNN) to solve the indoor scene recognition problem. The provided subset of [MIT Indoor67 dataset](http://web.mit.edu/torralba/www/indoor.html) contains images of 10 indoor categories which are <i>bakery, toyshop, dining room, bathroom, library, pool inside, gym, bowling, computer room, hospital room.</i>\n",
    "\n",
    "In this question, you are going to compare transfer learning and from scratch training approaches."
   ]
  },
  {
   "cell_type": "markdown",
   "metadata": {},
   "source": [
    "### Q1.a. Data Loader - 10 pts"
   ]
  },
  {
   "cell_type": "markdown",
   "metadata": {},
   "source": [
    "We provide you a subset of MIT Indoor dataset. Download our version of MIT Indoor10 dataset from Moodle. You have to implement a custom data loader for the indoor dataset. You can visit [link](https://pytorch.org/tutorials/beginner/data_loading_tutorial.html) to implement such a data loader. There will be a comparison of training approaches in this question. <b>Both approaches have to use exactly the same splits (training, test, and validation) to make their performance results comparable.</b>\n",
    "\n",
    "1. <font color=blue>\\[Code\\]</font> Split the dataset as training, test, and validation sets. For each class, 20% of its samples should be in test set and 10% of its samples should be in the validation set. \n",
    "2. <font color=blue>\\[Code\\]</font> Apply appropriate augmentations to the set(s) for which it is essential.\n",
    "3. <font color=blue>\\[Written\\]</font> Give details about data loading and augmentation steps. How many training, test and validation samples do exist for each class? Do you need to apply augmentations for training, test, and validation sets? Why or why not?"
   ]
  },
  {
   "cell_type": "code",
   "execution_count": 1,
   "metadata": {},
   "outputs": [],
   "source": [
    "# USE THIS CODE CELL TO SPECIFY ROOT PATH FOR THE DATASET.\n",
    "\n",
    "# IF YOU USE GOOGLE COLAB, DATA PATH EXAMPLE: \n",
    "# root_dir = '/content/gdrive/My\\ Drive/CS464/HW3/indoor_data'\n",
    "# -------------------------------------------------------\n",
    "\n",
    "\n",
    "# IF YOU USE LOCAL ENVIRONMENT, DATA PATH EXAMPLE:\n",
    "# root_dir = '/home/user/CS464/HW3/indoor_data'\n",
    "# -------------------------------------------------------\n",
    "\n",
    "root_dir = '' # change the value of root_dir variable as your root path"
   ]
  },
  {
   "cell_type": "code",
   "execution_count": 19,
   "metadata": {},
   "outputs": [],
   "source": [
    "# USE THIS CODE CELL TO IMPLEMENT YOUR DATA LOADER"
   ]
  },
  {
   "cell_type": "markdown",
   "metadata": {},
   "source": [
    "<b>Answer for Q1.a.3: </b> \n",
    "\n",
    "<b>USE THIS MARKDOWN CELL TO GIVE YOUR ANSWER FOR THE WRITTEN QUESTION.</b>\n",
    "\n",
    "<font color=blue>Double click to this text to write your answer !!!</font>"
   ]
  },
  {
   "cell_type": "markdown",
   "metadata": {},
   "source": [
    "### Q1.b. Convolutional Neural Network (CNN) - 5 pts"
   ]
  },
  {
   "cell_type": "markdown",
   "metadata": {},
   "source": [
    "The torchvision package contains of popular datasets, model architectures, and common image transformations for computer vision. In this question, you are going to use one of the well known CNN models which already exist in torchvision. Visit [link](https://pytorch.org/docs/stable/torchvision/models.html) to explore models in torchvision. Remember that using deeper or wider networks may increase your training time.\n",
    "1. <font color=blue>\\[Code\\]</font> Write your own CNN class which is inherited from torch.nn.Module class. This class should have a network that you select among torchvision models as an instance member.\n",
    "2. <font color=blue>\\[Written\\]</font> State the model you selected and explain why you picked that model. Did you need to modify any part of this model to adopt to your task? "
   ]
  },
  {
   "cell_type": "code",
   "execution_count": 8,
   "metadata": {},
   "outputs": [],
   "source": [
    "# USE THIS CODE CELL TO DEFINE CNN CLASS"
   ]
  },
  {
   "cell_type": "markdown",
   "metadata": {},
   "source": [
    "<b>Answer Q1.b.2:</b>\n",
    "\n",
    "<b>USE THIS MARKDOWN CELL TO GIVE YOUR ANSWER FOR THE WRITTEN QUESTION.</b>\n",
    "\n",
    "<font color=blue>Double click to this text to write your answer !!!</font>"
   ]
  },
  {
   "cell_type": "markdown",
   "metadata": {},
   "source": [
    "### Q1.c. Transfer Learning vs Training from Scratch - 13 pts"
   ]
  },
  {
   "cell_type": "markdown",
   "metadata": {},
   "source": [
    "In this question, are going to compare two different learning approaches: Transfer learning and Learning from scratch. Thanks to using the already implemented CNN model from torchvision, you can easily convert your randomly initialized network to a pretrained network. Do not forget that you are going to solve a multiclass classification problem. According to that, you need to carefully select the appropriate loss function. You need to select appropriate values for hyper-parameters. You need to use SGD optimizer for this question. Use the training, validation and test splits you created Q1.a. Note that you will NOT perform cross validation. Evaluate your network performance after each epoch by using the validation set. Use matplotlib library for plotting figures.\n",
    "\n",
    "1. <font color=blue>\\[Code\\]</font> Implement training and validation functions for both strategies. You have to print out average values of training loss, training accuracy, validation loss and validation accuracy for each epoch.\n",
    "2. <font color=blue>\\[Figure\\]</font> For the from-scratch-trained model, plot training loss and training accuracy of each iteration (update). Also plot validation loss and accuracy at each epoch. \n",
    "3. <font color=blue>\\[Figure\\]</font> For the transfer learning applied model, plot training loss and training accuracy of each iteration (each update). Also plot validation loss and accuracy at each epoch.\n",
    "4. <font color=blue>\\[Code\\]</font> Your models are going to run up to the max epoch parameter.  According to the validation results, pick the best models for both training approaches. You are going to use these models at the test phase. You need to save them in \".pth\" files.\n",
    "5. <font color=blue>\\[Written\\]</font> Which loss function did you use? Why did you choose it?\n",
    "6. <font color=blue>\\[Written\\]</font> What are the differences between transfer learning and from scratch learning.\n",
    "7. <font color=blue>\\[Written\\]</font> Explain how you selected hyperparameters for both strategies. Did you need to make any hyperparameter changes? "
   ]
  },
  {
   "cell_type": "code",
   "execution_count": 16,
   "metadata": {},
   "outputs": [],
   "source": [
    "# USE THIS CODE CELL TO SPECIFY YOUR BEST MODEL PATHS THAT WILL BE USED TO SAVE MODELS.\n",
    "\n",
    "FROM_SCRATCH_MODEL_PATH = '' # change the value of FROM_SCRATCH_MODEL_PATH variable as your path\n",
    "TRANSFER_LEARNING_MODEL_PATH = '' # change the value of TRANSFER_LEARNING_MODEL_PATH variable as your path"
   ]
  },
  {
   "cell_type": "code",
   "execution_count": 32,
   "metadata": {},
   "outputs": [],
   "source": [
    "# USE THIS CODE CELL TO WRITE TRAINING AND VALIDATION FUNCTIONS WHICH ARE COMMON FOR BOTH LEARNING APPROACH.\n",
    "# PARAMETERS OF TRANING CODE MAY DIFFER ACCORDING TO LEARNING APPROACH.\n",
    "\n",
    "# --- Representative Code Snippet ---\n",
    "\n",
    "# def train(**kwargs):\n",
    "\n",
    "# def evaluation(**kwargs):\n",
    "\n"
   ]
  },
  {
   "cell_type": "code",
   "execution_count": null,
   "metadata": {},
   "outputs": [],
   "source": [
    "# RUN TRAIN FUNCTION FOR THE FROM SCRATCH APPROACH IN THIS CELL.\n",
    "# PRINT OUT REQUIRED METRICS FOR EACH EPOCH.\n",
    "# EVALUATE YOUR MODEL AND SAVE THE BEST MODEL ACCORDING TO VALIDATION METRICS.\n",
    "\n",
    "\n",
    "# --- Representative Code Snippet ---\n",
    "\n",
    "# from_scratch_hyperparameters = {...}\n",
    "# for epoch_id in range(max_epoch):\n",
    "#    train(from_scratch_hyperparameters)\n",
    "#    val_acc = evaluate(from_scratch_hyperparameters) \n",
    "#    if val_acc > best_acc:\n",
    "#        save_model()"
   ]
  },
  {
   "cell_type": "code",
   "execution_count": null,
   "metadata": {},
   "outputs": [],
   "source": [
    "# RUN TRAIN FUNCTION FOR THE TRANSFER LEARNING APPROACH IN THIS CELL.\n",
    "# PRINT OUT REQUIRED METRICS FOR EACH EPOCH.\n",
    "# EVALUATE YOUR MODEL AND SAVE THE BEST MODEL ACCORDING TO VALIDATION METRICS.\n",
    "\n",
    "\n",
    "# --- Representative Code Snippet ---\n",
    "\n",
    "# transfer_learning_hyperparameters = {...}\n",
    "# for epoch_id in range(max_epoch):\n",
    "#    train(transfer_learning_hyperparameters)\n",
    "#    val_acc = evaluate(transfer_learning_hyperparameters) \n",
    "#    if val_acc > best_acc:\n",
    "#        save_model()"
   ]
  },
  {
   "cell_type": "code",
   "execution_count": 38,
   "metadata": {},
   "outputs": [],
   "source": [
    "# USE THIS CODE CELL TO PLOT METRICS FOR THE FROM SCRATCH LEARNING [Answer: Q1.c.2]"
   ]
  },
  {
   "cell_type": "code",
   "execution_count": 39,
   "metadata": {},
   "outputs": [],
   "source": [
    "# USE THIS CODE CELL TO PLOT METRICS FOR THE TRANSFER LEARNING [Answer: Q1.c.3]"
   ]
  },
  {
   "cell_type": "markdown",
   "metadata": {},
   "source": [
    "<b>Answer for Q1.c.5:</b>\n",
    "\n",
    "<b>USE THIS MARKDOWN CELL TO GIVE YOUR ANSWER FOR THE WRITTEN QUESTION.</b>\n",
    "\n",
    "<font color=blue>Double click to this text to write your answer !!!</font>"
   ]
  },
  {
   "cell_type": "markdown",
   "metadata": {},
   "source": [
    "<b>Answer for Q1.c.6:</b>\n",
    "\n",
    "<b>USE THIS MARKDOWN CELL TO GIVE YOUR ANSWER FOR THE WRITTEN QUESTION.</b>\n",
    "\n",
    "<font color=blue>Double click to this text to write your answer !!!</font>"
   ]
  },
  {
   "cell_type": "markdown",
   "metadata": {},
   "source": [
    "<b>Answer for Q1.c.7:</b>\n",
    "\n",
    "<b>USE THIS MARKDOWN CELL TO GIVE YOUR ANSWER FOR THE WRITTEN QUESTION.</b>\n",
    "\n",
    "<font color=blue>Double click to this text to write your answer !!!</font>"
   ]
  },
  {
   "cell_type": "markdown",
   "metadata": {},
   "source": [
    "### Q1.d. Test Classifiers - 7 pts"
   ]
  },
  {
   "cell_type": "markdown",
   "metadata": {},
   "source": [
    "You should have obtained two trained networks so far. One of them comes from a transfer learning approach and the other network is from from-scratch-trained approach. In this case, you need to compare these two trained networks by using the test set.\n",
    "\n",
    "1. <font color=blue>\\[Code\\]</font> Load saved '.pth' file for the model that trained with the transfer learning approach. Test this model by using the test set.\n",
    "2. <font color=blue>\\[Code\\]</font> Load saved '.pth' file for the model that trained from scratch. Test this model by using the test set.\n",
    "3. <font color=blue>\\[Figure\\]</font> Provide confusion matrix for the results of [1.] question.\n",
    "4. <font color=blue>\\[Figure\\]</font> Provide confusion matrix for the results of [2.] question.\n",
    "5. <font color=blue>\\[Figure\\]</font> Display randomly selected 20 images from the test set with the predicted and ground truth labels. Show these images in a grid (4x5).\n",
    "6. <font color=blue>\\[Written\\]</font> Give the test set accuracy values for these two models. Which training approach does work better than the other? Explain why?"
   ]
  },
  {
   "cell_type": "code",
   "execution_count": 44,
   "metadata": {},
   "outputs": [],
   "source": [
    "# USE THIS CODE CELL TO IMPLEMENT TEST FUNCTION WHICH IS COMMON FOR BOTH MODEL\n",
    "\n",
    "# --- Representative Code Snippet ---\n",
    "# def test(**kwargs):"
   ]
  },
  {
   "cell_type": "code",
   "execution_count": 12,
   "metadata": {},
   "outputs": [],
   "source": [
    "# USE THIS CODE CELL TO LOAD BEST MODEL WHICH USES TRANSFER LEARNING APPROACH\n",
    "# LOAD TEST SAMPLES\n",
    "# GET THE TEST RESULTS, PRINT OUT TEST METRICS\n",
    "\n",
    "# --- Representative Code Snippet ---\n",
    "# testloader = torch.utils.data.DataLoader(test_dataset, batch_size=n_batch, num_workers=n_workers)\n",
    "# model = YourCNNClass(**kwargs)\n",
    "# model.load_state_dict(torch.load(TRANSFER_LEARNING_MODEL_PATH))\n",
    "# model.eval()\n",
    "# test(model)"
   ]
  },
  {
   "cell_type": "code",
   "execution_count": 13,
   "metadata": {},
   "outputs": [],
   "source": [
    "# USE THIS CODE CELL TO LOAD BEST MODEL WHICH IS TRAINED FROM SCRATCH\n",
    "# LOAD TEST SAMPLES\n",
    "# GET THE TEST RESULTS, PRINT OUT TEST METRICS\n",
    "\n",
    "# --- Representative Code Snippet ---\n",
    "# testloader = torch.utils.data.DataLoader(test_dataset, batch_size=n_batch, num_workers=n_workers)\n",
    "# model = YourCNNClass(**kwargs)\n",
    "# model.load_state_dict(torch.load(FROM_SCRATCH_MODEL_PATH))\n",
    "# model.eval()\n",
    "# test(model)"
   ]
  },
  {
   "cell_type": "code",
   "execution_count": 14,
   "metadata": {},
   "outputs": [],
   "source": [
    "# USE THIS CODE CELL TO CREATE CONFUSION MATRIX [Answer: Q1.d.3]\n",
    "# YOU CAN USE sklearn.metrics package to compute confusion matrix"
   ]
  },
  {
   "cell_type": "code",
   "execution_count": 15,
   "metadata": {},
   "outputs": [],
   "source": [
    "# USE THIS CODE CELL TO CREATE CONFUSION MATRIX [Answer: Q1.d.4]\n",
    "# YOU CAN UbSE sklearn.metrics package to compute confusion matrix"
   ]
  },
  {
   "cell_type": "code",
   "execution_count": 58,
   "metadata": {},
   "outputs": [],
   "source": [
    "# USE THIS CODE CELL TO DISPLAY RANDOMLY SELECTED TEST SAMPLES WITH THEIR PREDICTED AND TARGET LABELS [Answer: Q1.d.5]"
   ]
  },
  {
   "cell_type": "markdown",
   "metadata": {},
   "source": [
    "<b>Answer for Q1.d.6:</b>\n",
    "\n",
    "<b>USE THIS MARKDOWN CELL TO GIVE YOUR ANSWER FOR THE WRITTEN QUESTION.</b>\n",
    "\n",
    "<font color=blue>Double click to this text to write your answer !!!</font>"
   ]
  },
  {
   "cell_type": "markdown",
   "metadata": {},
   "source": [
    "## Question 2 - 65 pts"
   ]
  },
  {
   "cell_type": "markdown",
   "metadata": {},
   "source": [
    "In this question, you are going to implement both a Convolutional Neural Network (CNN) architecture and a Multilayer Perceptron (MLP) to solve the bird type classification problem. As the dataset, you will use [Caltech-UCSD Birds-200-2011](http://www.vision.caltech.edu/visipedia/CUB-200-2011.html) dataset. The dataset consists of 11.788 photos of 200 bird species. The dataset provides you bounding boxes, image labels, and training-test splits. DO NOT FORGET THAT YOU WILL NOT USE TRAINING-TEST SPLIT WHICH IS PROVIDED BY DATASET. YOU WILL SPLIT THE DATASET INTO TRAINING, TEST AND VALIDATION SETS YOURSELF.\n",
    "\n",
    "You are free to choose your neural network architecture in this question but there will be a minimum performance threshold and your network's performance will affect your grade for this question. The thresholds and metric types are specified in corresponding questions.\n",
    "\n",
    "<b>Note: You should be able to achieve these goals with training time < a day on a GPU.</b>"
   ]
  },
  {
   "cell_type": "markdown",
   "metadata": {},
   "source": [
    "### Q2.a. Data Loader - 15 pts"
   ]
  },
  {
   "cell_type": "markdown",
   "metadata": {},
   "source": [
    "In this question you are going to use [Caltech-UCSD Birds-200-2011](http://www.vision.caltech.edu/visipedia/CUB-200-2011.html) dataset. Download the dataset from given [link](http://www.vision.caltech.edu/visipedia/CUB-200-2011.html). You have to implement a custom data loader. Notice that photos are not tightly cropped. You may choose to crop images by using bounding boxes which exist in the dataset. Note that you will build CNN and MLP architectures and input types should be different for these networks. You should prepare data loaders by considering this situation. You may need to convert images to grayscale format to train the MLP model. <b>MLP and CNN architectures have to use exactly the same splits (training, test, and validation) to make their performance results comparable.</b>\n",
    "\n",
    "1. <font color=blue>\\[Code\\]</font> Split the dataset as training, test, and validation sets. For each class, 20% of its samples should be in test set and 10% of its samples should be in the validation set. \n",
    "2. <font color=blue>\\[Code\\]</font> Apply appropriate augmentations to the set(s) for which it is essential.\n",
    "3. <font color=blue>\\[Written\\]</font> Explain your augmentation method differences for two models? \n",
    "\n"
   ]
  },
  {
   "cell_type": "code",
   "execution_count": 4,
   "metadata": {},
   "outputs": [],
   "source": [
    "# USE THIS CODE CELL TO SPECIFY ROOT PATH FOR THE DATASET.\n",
    "\n",
    "# IF YOU USE GOOGLE COLAB, DATA PATH EXAMPLE: \n",
    "# root_dir = '/content/gdrive/My\\ Drive/CS464/HW3/CUB_200_2011'\n",
    "# -------------------------------------------------------\n",
    "\n",
    "\n",
    "# IF YOU USE LOCAL ENVIRONMENT, DATA PATH EXAMPLE:\n",
    "# root_dir = '/home/user/CS464/HW3/CUB_200_2011'\n",
    "# -------------------------------------------------------\n",
    "\n",
    "root_dir = '' # change the value of root_dir variable as your root path"
   ]
  },
  {
   "cell_type": "code",
   "execution_count": 5,
   "metadata": {},
   "outputs": [],
   "source": [
    "# USE THIS CODE CELL TO IMPLEMENT YOUR DATA LOADER"
   ]
  },
  {
   "cell_type": "markdown",
   "metadata": {},
   "source": [
    "<b>Answer for Q2.a.3: </b> \n",
    "\n",
    "<b>USE THIS MARKDOWN CELL TO GIVE YOUR ANSWER FOR THE WRITTEN QUESTION.</b>\n",
    "\n",
    "<font color=blue>Double click to this text to write your answer !!!</font>"
   ]
  },
  {
   "cell_type": "markdown",
   "metadata": {},
   "source": [
    "### Q2.b. Multilayer Perceptron - 5 pts"
   ]
  },
  {
   "cell_type": "markdown",
   "metadata": {},
   "source": [
    "Implement the MLP model to solve this multiclass classification problem. For the MLP model, <b>accuracy for the top-5 classes on the test set has to be minimum 50%</b>. You have to design your network according to this limitation. \n",
    "\n",
    "1. <font color=blue>\\[Code\\]</font> Write your own MLP class which is inherited from torch.nn.Module class.\n",
    "2. <font color=blue>\\[Written\\]</font> How many layers are there in your network? How did you choose the number of layers? How many neurons are there in each layer? Did you use any activation functions? "
   ]
  },
  {
   "cell_type": "code",
   "execution_count": 24,
   "metadata": {},
   "outputs": [],
   "source": [
    "# USE THIS CODE CELL TO DEFINE MLP CLASS"
   ]
  },
  {
   "cell_type": "markdown",
   "metadata": {},
   "source": [
    "<b>Answer Q2.b.2:</b>\n",
    "\n",
    "<b>USE THIS MARKDOWN CELL TO GIVE YOUR ANSWER FOR THE WRITTEN QUESTION.</b>\n",
    "\n",
    "<font color=blue>Double click to this text to write your answer !!!</font>"
   ]
  },
  {
   "cell_type": "markdown",
   "metadata": {},
   "source": [
    "### Q2.c. Convolutional Neural Network (CNN) - 8 pts"
   ]
  },
  {
   "cell_type": "markdown",
   "metadata": {},
   "source": [
    "Implement the CNN model to solve this multiclass classification problem. For the CNN model, <b>accuracy fot the top-5 classes on the test set has to be minimum 75%</b>. You have to design your network according to that limitation. \n",
    "\n",
    "1. <font color=blue>\\[Code\\]</font> Write your own CNN class which is inherited from torch.nn.Module class.\n",
    "2. <font color=blue>\\[Written\\]</font> How many layers are there in your network? How did you choose the number of layers? How did you choose kernel sizes for each convolutional layer? Did you use any activation functions? "
   ]
  },
  {
   "cell_type": "code",
   "execution_count": 25,
   "metadata": {},
   "outputs": [],
   "source": [
    "# USE THIS CODE CELL TO DEFINE CNN CLASS"
   ]
  },
  {
   "cell_type": "markdown",
   "metadata": {},
   "source": [
    "<b>Anser for Q2.c.2:</b>\n",
    "\n",
    "<b>USE THIS MARKDOWN CELL TO GIVE YOUR ANSWER FOR THE WRITTEN QUESTION.</b>\n",
    "\n",
    "<font color=blue>Double click to this text to write your answer !!!</font>"
   ]
  },
  {
   "cell_type": "markdown",
   "metadata": {},
   "source": [
    "### Q2.d. Train MLP & CNN Networks - 13 pts"
   ]
  },
  {
   "cell_type": "markdown",
   "metadata": {},
   "source": [
    "You are going to train MLP and CNN networks by using same training, validation and test samples. You have to solve a multiclass classification problem and you need to carefully select the appropriate loss function. You have minimum performance thresholds for both models. You need to select appropriate values for hyper-parameters to achieve these thresholds. You need to use SGD optimizer for this question. So far, you should have created three dataset splits for training, validation and testing. You will need to load these splits at this phase. Note that you will NOT perform cross validation. Evaluate your network performance after each epoch by using the validation set. Use matplotlib library for plotting figures.\n",
    "\n",
    "1. <font color=blue>\\[Code\\]</font> Implement training and validation functions for both network architectures. You have to print out average values of training loss, training top-1 accuracy (accuracy of the most accurately predicted class), validation loss and validation top-1 accuracy for each epoch.\n",
    "2. <font color=blue>\\[Figure\\]</font> For the MLP model, plot training loss and training top-1 accuracy of each iteration (each update). Also plot validation loss and validation top-1 accuracy at each epoch. \n",
    "3. <font color=blue>\\[Figure\\]</font> For the CNN model,  plot training loss and training top-1 accuracy of each iteration (each update). Also plot validation loss and validation top-1 accuracy at each epoch.\n",
    "4. <font color=blue>\\[Code\\]</font> Your models are going to run up to the max epoch parameter.  According to validation results pick the best models for both architectures. You are going to use these models at the test phase. You need to save them in a \".pth\" files.\n",
    "5. <font color=blue>\\[Written\\]</font> Which loss function did you use? Why did you choose it?\n",
    "6. <font color=blue>\\[Written\\]</font> Explain how you selected the hyperparameters of the training phases for both MLP and CNN models."
   ]
  },
  {
   "cell_type": "code",
   "execution_count": 47,
   "metadata": {},
   "outputs": [],
   "source": [
    "# USE THIS CODE CELL TO SPECIFY YOUR BEST MODEL PATHS THAT WILL BE USED TO SAVE MODELS.\n",
    "\n",
    "BEST_MLP_PATH = '' # change the value of BEST_MLP_PATH variable as your path\n",
    "BEST_CNN_PATH = '' # change the value of BEST_CNN_PATH variable as your path"
   ]
  },
  {
   "cell_type": "code",
   "execution_count": 48,
   "metadata": {},
   "outputs": [],
   "source": [
    "# USE THIS CODE CELL TO WRITE TRAINING AND VALIDATION FUNCTIONS WHICH ARE COMMON FOR BOTH NETWORK ARCHITECTURES.\n",
    "# PARAMETERS OF TRANING CODE MAY DIFFER ACCORDING TO NETWORK ARCHITECTURE.\n",
    "\n",
    "# --- Representative Code Snippet ---\n",
    "\n",
    "# def train(**kwargs):\n",
    "\n",
    "# def evaluation(**kwargs):\n",
    "\n"
   ]
  },
  {
   "cell_type": "code",
   "execution_count": 36,
   "metadata": {},
   "outputs": [],
   "source": [
    "# RUN TRAIN FUNCTION FOR THE MLP MODEL IN THIS CELL.\n",
    "# PRINT OUT REQUIRED METRICS FOR EACH EPOCH.\n",
    "# EVALUATE YOUR MODEL AND SAVE THE BEST MODEL ACCORDING TO VALIDATION METRICS.\n",
    "\n",
    "\n",
    "# --- Representative Code Snippet ---\n",
    "\n",
    "# mlp_hyperparameters = {...}\n",
    "# for epoch_id in range(max_epoch):\n",
    "#    train(mlp_hyperparameters)\n",
    "#    val_acc = evaluate(mlp_hyperparameters) \n",
    "#    if val_acc > best_acc:\n",
    "#        save_model()"
   ]
  },
  {
   "cell_type": "code",
   "execution_count": 37,
   "metadata": {},
   "outputs": [],
   "source": [
    "# RUN TRAIN FUNCTION FOR THE CNN MODEL IN THIS CELL.\n",
    "# PRINT OUT REQUIRED METRICS FOR EACH EPOCH.\n",
    "# EVALUATE YOUR MODEL AND SAVE THE BEST MODEL ACCORDING TO VALIDATION METRICS.\n",
    "\n",
    "\n",
    "# --- Representative Code Snippet ---\n",
    "\n",
    "# cnn_hyperparameters = {...}\n",
    "# for epoch_id in range(max_epoch):\n",
    "#    train(cnn_hyperparameters)\n",
    "#    val_acc = evaluate(cnn_hyperparameters) \n",
    "#    if val_acc > best_acc:\n",
    "#        save_model()"
   ]
  },
  {
   "cell_type": "code",
   "execution_count": 40,
   "metadata": {},
   "outputs": [],
   "source": [
    "# USE THIS CODE CELL TO PLOT METRICS FOR THE MLP MODEL [Answer: Q2.d.2]"
   ]
  },
  {
   "cell_type": "code",
   "execution_count": 41,
   "metadata": {},
   "outputs": [],
   "source": [
    "# USE THIS CODE CELL TO PLOT METRICS FOR THE CNN MODEL [Answer: Q2.d.3]"
   ]
  },
  {
   "cell_type": "markdown",
   "metadata": {},
   "source": [
    "<b>Answer for Q2.d.5:</b>\n",
    "\n",
    "<b>USE THIS MARKDOWN CELL TO GIVE YOUR ANSWER FOR THE WRITTEN QUESTION.</b>\n",
    "\n",
    "<font color=blue>Double click to this text to write your answer !!!</font>"
   ]
  },
  {
   "cell_type": "markdown",
   "metadata": {},
   "source": [
    "<b>Answer for Q2.d.6:</b>\n",
    "\n",
    "<b>USE THIS MARKDOWN CELL TO GIVE YOUR ANSWER FOR THE WRITTEN QUESTION.</b>\n",
    "\n",
    "<font color=blue>Double click to this text to write your answer !!!</font>"
   ]
  },
  {
   "cell_type": "markdown",
   "metadata": {},
   "source": [
    "### Q2.e. Test MLP & CNN Networks - 9 pts"
   ]
  },
  {
   "cell_type": "markdown",
   "metadata": {},
   "source": [
    "You should have obtained two trained networks so far. One of them comes from the MLP model and the other is from the CNN model. In this part, you need to compare these two trained networks by using the test set.\n",
    "\n",
    "1. <font color=blue>\\[Code\\]</font> Load saved '.pth' file for the MLP model. Test this model by using the test set.\n",
    "2. <font color=blue>\\[Code\\]</font> Load saved '.pth' file for the CNN model. Test this model by using the test set.\n",
    "3. <font color=blue>\\[Figure\\]</font> Display randomly selected 20 images from the test set with the predicted and ground truth labels. Show these images in a grid (4x5).\n",
    "3. <font color=blue>\\[Written\\]</font> Give the top-1 and top-5 accuracy values on the test set for the MLP and the CNN models. Which architecture does work better than the other? Explain why."
   ]
  },
  {
   "cell_type": "code",
   "execution_count": 60,
   "metadata": {},
   "outputs": [],
   "source": [
    "# USE THIS CODE CELL TO IMPLEMENT TEST FUNCTION WHICH IS COMMON FOR BOTH MODEL\n",
    "\n",
    "# --- Representative Code Snippet ---\n",
    "# def test(**kwargs):"
   ]
  },
  {
   "cell_type": "code",
   "execution_count": 49,
   "metadata": {},
   "outputs": [],
   "source": [
    "# USE THIS CODE CELL TO LOAD BEST MLP MODEL\n",
    "# LOAD TEST SAMPLES\n",
    "# GET THE TEST RESULTS, PRINT OUT TEST METRICS\n",
    "\n",
    "# --- Representative Code Snippet ---\n",
    "# testloader = torch.utils.data.DataLoader(test_dataset, batch_size=n_batch, num_workers=n_workers)\n",
    "# model = MLP(**kwargs)\n",
    "# model.load_state_dict(torch.load(BEST_MLP_PATH))\n",
    "# model.eval()\n",
    "# test(model)"
   ]
  },
  {
   "cell_type": "code",
   "execution_count": 54,
   "metadata": {},
   "outputs": [],
   "source": [
    "# USE THIS CODE CELL TO LOAD BEST CNN MODEL\n",
    "# LOAD TEST SAMPLES\n",
    "# GET THE TEST RESULTS, PRINT OUT TEST METRICS\n",
    "\n",
    "# --- Representative Code Snippet ---\n",
    "# testloader = torch.utils.data.DataLoader(test_dataset, batch_size=n_batch, num_workers=n_workers)\n",
    "# model = CNN(**kwargs)\n",
    "# model.load_state_dict(torch.load(BEST_CNN_PATH))\n",
    "# model.eval()\n",
    "# test(model)"
   ]
  },
  {
   "cell_type": "code",
   "execution_count": 59,
   "metadata": {},
   "outputs": [],
   "source": [
    "# USE THIS CODE CELL TO DISPLAY RANDOMLY SELECTED TEST SAMPLES WITH THEIR PREDICTED AND TARGET LABELS [Answer: Q2.e.3]"
   ]
  },
  {
   "cell_type": "markdown",
   "metadata": {},
   "source": [
    "<b>Answer for Q2.e.4:</b>\n",
    "\n",
    "<b>USE THIS MARKDOWN CELL TO GIVE YOUR ANSWER FOR THE WRITTEN QUESTION.</b>\n",
    "\n",
    "<font color=blue>Double click to this text to write your answer !!!</font>"
   ]
  },
  {
   "cell_type": "markdown",
   "metadata": {},
   "source": [
    "### Q2.f. Activation and Feature Map Visualization - 15 pts "
   ]
  },
  {
   "cell_type": "markdown",
   "metadata": {},
   "source": [
    "You have trained your CNN model. For this trained network, you will visualize the weights and outputs of the randomly selected (at most) 100 filters (feature maps) from the last convolutional layer, as images in a square grid format (10x10). You should select a single image from the test set to display its activation maps extracted from selected 100 filters. \n",
    "\n",
    "1. <font color=blue>\\[Figure\\]</font> Select an image from the test set and display it.\n",
    "2. <font color=blue>\\[Figure\\]</font> Display the weights of randomly selected at most 100 filters from the last convolutional layer. Each filter weight should be represented as an image in a square grid.\n",
    "3. <font color=blue>\\[Figure\\]</font> For the selected sample, compute the activation maps for the 100 filters (from 2nd question). Display each activation map as an image in a square grid (10x10).\n",
    "4. <font color=blue>\\[Written\\]</font> Explain what these activation maps represent and why they are important."
   ]
  },
  {
   "cell_type": "code",
   "execution_count": 61,
   "metadata": {},
   "outputs": [],
   "source": [
    "# USE THIS CODE CELL TO DISPLAY SELECTED SINGLE SAMPLE FROM TEST SET [Answer: Q2.f.1]"
   ]
  },
  {
   "cell_type": "code",
   "execution_count": 1,
   "metadata": {},
   "outputs": [],
   "source": [
    "# USE THIS CODE CELL TO DISPLAY WEIGHTS OF THE SELECTED KERNELS [Answer: Q2.f.2]"
   ]
  },
  {
   "cell_type": "code",
   "execution_count": 64,
   "metadata": {},
   "outputs": [],
   "source": [
    "# USE THIS CODE CELL TO DISPLAY OUTPUTS OF THE SELECTED KERNELS [Answer: Q2.f.3]"
   ]
  },
  {
   "cell_type": "markdown",
   "metadata": {},
   "source": [
    "<b>Answer for Q2.f.4:</b>\n",
    "\n",
    "<b>USE THIS MARKDOWN CELL TO GIVE YOUR ANSWER FOR THE WRITTEN QUESTION.</b>\n",
    "\n",
    "<font color=blue>Double click to this text to write your answer !!!</font>"
   ]
  }
 ],
 "metadata": {
  "kernelspec": {
   "display_name": "Python 2",
   "language": "python",
   "name": "python2"
  },
  "language_info": {
   "codemirror_mode": {
    "name": "ipython",
    "version": 2
   },
   "file_extension": ".py",
   "mimetype": "text/x-python",
   "name": "python",
   "nbconvert_exporter": "python",
   "pygments_lexer": "ipython2",
   "version": "2.7.15"
  }
 },
 "nbformat": 4,
 "nbformat_minor": 2
}
